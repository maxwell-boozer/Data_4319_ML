{
 "cells": [
  {
   "attachments": {
    "image.png": {
     "image/png": "[encoded data removed]"
    }
   },
   "cell_type": "markdown",
   "metadata": {},
   "source": [
    "# Linear Regression\n",
    "\n",
    "---\n",
    "\n",
    "Linear Regression in its simplest form, fits a linear model to the data set by adjusting a set of parameters to make the sum of the squared residuals of the model as small as possible.\n",
    "\n",
    "It is a supervised learning algorithm that is applied to real valued target functions to predict a range of possible outputs for any given input. The linear model makes a prediction by simply computing a weighted sum of the input features, plus a constant called the *bias term* (or the *intercept*). \n",
    "\n",
    "![image.png](attachment:image.png)\n",
    "\n",
    "---\n",
    "\n",
    "The vectorized form of the Linear Regression model prediction is below:\n",
    "\n",
    "$\\hat{y} = h_{\\theta}(x) = \\theta\\ \\cdot x $\n",
    "\n",
    "In this equation:\n",
    "- $\\theta$ is the model's *parameter vector* that contains the bias term $\\theta_{0}$ and the feature weights $\\theta_{1}$ to $\\theta_{n}$.\n",
    "- **x** is the instance's *feature vector*, containing $x_{0}$ to $x_{n}$, with $x_{0}$ always equal to 1\n",
    "- $\\theta \\cdot$ **x** is the dot product of the vectors **$\\theta$** and **x**\n",
    "- $h_{\\theta}$ is the hypothesis function, using the model parameters $\\theta$\n",
    "\n",
    "---\n",
    "\n",
    "## Training the Model\n",
    "\n",
    "---\n",
    "\n",
    "We will use the Mean Squared Error (MSE) as our cost function for this model. Therefore, to train our model, we need to find the value of $\\theta$ that minimizes the MSE.\n",
    "\n",
    "The equation for MSE is seen below:\n",
    "\n",
    "MSE$(X,h_{\\theta}) = \\frac{1}{m} \\sum_{i = 1}^{m} (\\theta^{T}x^{(i)} - y^{(i)})^{2}$\n",
    "\n",
    "\n",
    "## Implementing Linear Regression\n",
    "\n",
    "For the purposes of this example, we will be using scikit-learn's built-in ```LinearRegression``` module. We are going to implement on a dataset containing Rocket Propellant Age (days) and Shear Strength (psi).\n",
    "\n",
    "---"
   ]
  },
  {
   "cell_type": "code",
   "execution_count": 2,
   "metadata": {},
   "outputs": [],
   "source": [
    "import numpy as np\n",
    "import pandas as pd\n",
    "import matplotlib.pyplot as plt\n"
   ]
  },
  {
   "cell_type": "code",
   "execution_count": 3,
   "metadata": {},
   "outputs": [],
   "source": [
    "rockets = pd.read_csv('rocket_propellant.csv')"
   ]
  },
  {
   "cell_type": "markdown",
   "metadata": {},
   "source": [
    "### Data Exploration"
   ]
  },
  {
   "cell_type": "code",
   "execution_count": 4,
   "metadata": {},
   "outputs": [
    {
     "name": "stdout",
     "output_type": "stream",
     "text": [
      "<class 'pandas.core.frame.DataFrame'>\n",
      "RangeIndex: 20 entries, 0 to 19\n",
      "Data columns (total 2 columns):\n",
      "Shear Strength, yi (psi)         20 non-null float64\n",
      "Age of Propellant, xi (weeks)    20 non-null float64\n",
      "dtypes: float64(2)\n",
      "memory usage: 448.0 bytes\n"
     ]
    }
   ],
   "source": [
    "rockets.info()"
   ]
  },
  {
   "cell_type": "code",
   "execution_count": 5,
   "metadata": {},
   "outputs": [
    {
     "data": {
      "text/html": [
       "<div>\n",
       "<style scoped>\n",
       "    .dataframe tbody tr th:only-of-type {\n",
       "        vertical-align: middle;\n",
       "    }\n",
       "\n",
       "    .dataframe tbody tr th {\n",
       "        vertical-align: top;\n",
       "    }\n",
       "\n",
       "    .dataframe thead th {\n",
       "        text-align: right;\n",
       "    }\n",
       "</style>\n",
       "<table border=\"1\" class=\"dataframe\">\n",
       "  <thead>\n",
       "    <tr style=\"text-align: right;\">\n",
       "      <th></th>\n",
       "      <th>Shear Strength, yi (psi)</th>\n",
       "      <th>Age of Propellant, xi (weeks)</th>\n",
       "    </tr>\n",
       "  </thead>\n",
       "  <tbody>\n",
       "    <tr>\n",
       "      <td>0</td>\n",
       "      <td>2158.70</td>\n",
       "      <td>15.50</td>\n",
       "    </tr>\n",
       "    <tr>\n",
       "      <td>1</td>\n",
       "      <td>1678.15</td>\n",
       "      <td>23.75</td>\n",
       "    </tr>\n",
       "    <tr>\n",
       "      <td>2</td>\n",
       "      <td>2316.00</td>\n",
       "      <td>8.00</td>\n",
       "    </tr>\n",
       "    <tr>\n",
       "      <td>3</td>\n",
       "      <td>2061.30</td>\n",
       "      <td>17.00</td>\n",
       "    </tr>\n",
       "    <tr>\n",
       "      <td>4</td>\n",
       "      <td>2207.50</td>\n",
       "      <td>5.50</td>\n",
       "    </tr>\n",
       "    <tr>\n",
       "      <td>5</td>\n",
       "      <td>1708.30</td>\n",
       "      <td>19.00</td>\n",
       "    </tr>\n",
       "    <tr>\n",
       "      <td>6</td>\n",
       "      <td>1784.70</td>\n",
       "      <td>24.00</td>\n",
       "    </tr>\n",
       "    <tr>\n",
       "      <td>7</td>\n",
       "      <td>2575.00</td>\n",
       "      <td>2.50</td>\n",
       "    </tr>\n",
       "    <tr>\n",
       "      <td>8</td>\n",
       "      <td>2357.90</td>\n",
       "      <td>7.50</td>\n",
       "    </tr>\n",
       "    <tr>\n",
       "      <td>9</td>\n",
       "      <td>2256.70</td>\n",
       "      <td>11.00</td>\n",
       "    </tr>\n",
       "  </tbody>\n",
       "</table>\n",
       "</div>"
      ],
      "text/plain": [
       "   Shear Strength, yi (psi)  Age of Propellant, xi (weeks)\n",
       "0                   2158.70                          15.50\n",
       "1                   1678.15                          23.75\n",
       "2                   2316.00                           8.00\n",
       "3                   2061.30                          17.00\n",
       "4                   2207.50                           5.50\n",
       "5                   1708.30                          19.00\n",
       "6                   1784.70                          24.00\n",
       "7                   2575.00                           2.50\n",
       "8                   2357.90                           7.50\n",
       "9                   2256.70                          11.00"
      ]
     },
     "execution_count": 5,
     "metadata": {},
     "output_type": "execute_result"
    }
   ],
   "source": [
    "rockets.head(10)"
   ]
  },
  {
   "cell_type": "markdown",
   "metadata": {},
   "source": [
    "---\n",
    "\n",
    "This is a low-dimensionality dataset which will work perfectly for our simple Linear Regression model. We'll use this model to predict the shear strength of rockets based on the age of their propellant. First, let's plot our data.\n",
    "\n",
    "---"
   ]
  },
  {
   "cell_type": "code",
   "execution_count": 6,
   "metadata": {},
   "outputs": [
    {
     "data": {
      "image/png": "[encoded data removed]",
      "text/plain": [
       "<Figure size 864x576 with 1 Axes>"
      ]
     },
     "metadata": {
      "needs_background": "light"
     },
     "output_type": "display_data"
    }
   ],
   "source": [
    "strength = rockets['Shear Strength, yi (psi)']\n",
    "age = rockets['Age of Propellant, xi (weeks)']\n",
    "\n",
    "plt.figure(figsize = (12, 8))\n",
    "plt.scatter(age, strength)\n",
    "plt.title('Shear Strength of Rockets vs the Propellant Age')\n",
    "plt.xlabel(\"Age (Weeks)\")\n",
    "plt.ylabel(\"Shear Strength (psi)\")\n",
    "plt.show()"
   ]
  },
  {
   "cell_type": "markdown",
   "metadata": {},
   "source": [
    "---\n",
    "\n",
    "From the plot above we can see an obvious linear relationship between propellant age and the shear strength of rockets. A simple Linear Regression model will be good at predicting unseen data.\n",
    "\n",
    "We'll next need to build the Linear Regression model for this data, but first we need to import two modules. We'll start with ```sklearn.model_selection.train_test_split``` to partion our data into training and testing subsets, documentation for which can be found at [train_test_split](https://scikit-learn.org/stable/modules/generated/sklearn.model_selection.train_test_split.html?highlight=train_test_split#sklearn.model_selection.train_test_split). We'll also import ```sklearn.linear_model.LinearRegression``` for our Linear Model, documentation for which can be found at [LinearRegression](https://scikit-learn.org/stable/modules/generated/sklearn.linear_model.LinearRegression.html)\n",
    "\n",
    "---"
   ]
  },
  {
   "cell_type": "code",
   "execution_count": 7,
   "metadata": {},
   "outputs": [],
   "source": [
    "from sklearn.model_selection import train_test_split\n",
    "from sklearn.linear_model import LinearRegression"
   ]
  },
  {
   "cell_type": "code",
   "execution_count": 8,
   "metadata": {},
   "outputs": [],
   "source": [
    "X = np.array(strength).reshape(-1,1)\n",
    "y = np.array(age)"
   ]
  },
  {
   "cell_type": "markdown",
   "metadata": {},
   "source": [
    "---\n",
    "\n",
    "Split the data into testing and training sets.\n",
    "\n",
    "---"
   ]
  },
  {
   "cell_type": "code",
   "execution_count": 9,
   "metadata": {},
   "outputs": [],
   "source": [
    "X_train, X_test, y_train, y_test = train_test_split(X, y, random_state=0)"
   ]
  },
  {
   "cell_type": "markdown",
   "metadata": {},
   "source": [
    "---\n",
    "\n",
    "Fit the LinearRegression module to the data and predict the shear strength.\n",
    "\n",
    "---"
   ]
  },
  {
   "cell_type": "code",
   "execution_count": 10,
   "metadata": {},
   "outputs": [],
   "source": [
    "reg = LinearRegression().fit(X_train, y_train)\n",
    "prediction = reg.predict(X_test)"
   ]
  },
  {
   "cell_type": "markdown",
   "metadata": {},
   "source": [
    "---\n",
    "\n",
    "We should now plot the results with our predicted LinearRegression line.\n",
    "\n",
    "---"
   ]
  },
  {
   "cell_type": "code",
   "execution_count": 11,
   "metadata": {},
   "outputs": [
    {
     "data": {
      "image/png": "[encoded data removed]",
      "text/plain": [
       "<Figure size 864x576 with 1 Axes>"
      ]
     },
     "metadata": {
      "needs_background": "light"
     },
     "output_type": "display_data"
    }
   ],
   "source": [
    "plt.figure(figsize = (12, 8))\n",
    "plt.scatter(X_test, y_test, color = 'orange')\n",
    "plt.plot(X_test, prediction, color = 'navy')\n",
    "plt.title(\"Linear Model imposed over Test Data\")\n",
    "plt.xlabel(\"Age (weeks)\")\n",
    "plt.ylabel(\"Shear Strength (psi)\")\n",
    "plt.show()"
   ]
  },
  {
   "cell_type": "markdown",
   "metadata": {},
   "source": [
    "--- "
   ]
  },
  {
   "cell_type": "markdown",
   "metadata": {},
   "source": [
    "---\n",
    "\n",
    "From our plot above we can see where our Linear Regression line fits in the test data and that there is an obvious negative correlation.\n",
    "\n",
    "Let's next see how accurate our model is by checking the coefficient of determination of our prediction, or the R$^{2}$\n",
    "\n",
    "---"
   ]
  },
  {
   "cell_type": "code",
   "execution_count": 12,
   "metadata": {},
   "outputs": [
    {
     "name": "stdout",
     "output_type": "stream",
     "text": [
      "R^2 score = 89.94%\n"
     ]
    }
   ],
   "source": [
    "r_squared = reg.score(X, y)\n",
    "print(f\"R^2 score = {np.round(r_squared * 100, 2)}%\")"
   ]
  },
  {
   "cell_type": "markdown",
   "metadata": {},
   "source": [
    "---\n",
    "\n",
    "A high R$^{2}$ shows that our model explains a majority of the variability of the \n",
    "response data round its mean.\n",
    "\n",
    "---"
   ]
  }
 ],
 "metadata": {
  "kernelspec": {
   "display_name": "Python 3",
   "language": "python",
   "name": "python3"
  },
  "language_info": {
   "codemirror_mode": {
    "name": "ipython",
    "version": 3
   },
   "file_extension": ".py",
   "mimetype": "text/x-python",
   "name": "python",
   "nbconvert_exporter": "python",
   "pygments_lexer": "ipython3",
   "version": "3.7.6"
  }
 },
 "nbformat": 4,
 "nbformat_minor": 4
}
